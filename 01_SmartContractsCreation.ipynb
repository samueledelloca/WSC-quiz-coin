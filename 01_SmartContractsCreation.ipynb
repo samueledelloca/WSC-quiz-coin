{
 "cells": [
  {
   "cell_type": "markdown",
   "metadata": {
    "pycharm": {
     "name": "#%% md\n"
    }
   },
   "source": [
    "## WSC Quiz Coin\n",
    "#### 01 Smart Contracts Creation\n",
    "##### Samuele Dell'Oca (samuele.delloca@supsi.ch)\n",
    "\n",
    "The entire notebook is predisposed in such a way that the cells have to be executed in a sequential way for replicating the desired execution. In case some cells need to be skipped, there will be a proper indication.\n",
    "\n",
    "For simplicity I have left also the code for interacting with the smart contract inside this notebook.\n"
   ]
  },
  {
   "cell_type": "markdown",
   "metadata": {
    "tags": [],
    "pycharm": {
     "name": "#%% md\n"
    }
   },
   "source": [
    "## Notebook Setup\n",
    "Taken from the course examples. It loads:\n",
    "* The functions in `algo_util.py`\n",
    "* The accounts MyAlgo, Alice and Bob\n",
    "* The Purestake credentials"
   ]
  },
  {
   "cell_type": "code",
   "execution_count": 1,
   "metadata": {
    "pycharm": {
     "name": "#%%\n"
    }
   },
   "outputs": [],
   "source": [
    "# Loading shared code and credentials\n",
    "from algo_util import *\n",
    "cred = load_credentials()\n",
    "\n",
    "# Shortcuts to directly access the 5 main accounts\n",
    "MyAlgo  = cred['MyAlgo']\n",
    "Alice   = cred['Alice']\n",
    "Bob     = cred['Bob']\n",
    "Charlie = cred['Charlie']\n",
    "Dina    = cred['Dina']"
   ]
  },
  {
   "cell_type": "code",
   "execution_count": 2,
   "metadata": {
    "pycharm": {
     "name": "#%%\n"
    }
   },
   "outputs": [],
   "source": [
    "from algosdk import account, mnemonic\n",
    "from algosdk.v2client import algod\n",
    "from algosdk import transaction\n",
    "from algosdk.transaction import PaymentTxn\n",
    "from algosdk.transaction import AssetConfigTxn, AssetTransferTxn, AssetFreezeTxn\n",
    "from algosdk.transaction import LogicSig, LogicSigTransaction, LogicSigAccount\n",
    "import algosdk.error\n",
    "import json\n",
    "import base64\n",
    "\n",
    "from pyteal import *\n",
    "import random\n",
    "import hashlib"
   ]
  },
  {
   "cell_type": "code",
   "execution_count": 3,
   "metadata": {
    "pycharm": {
     "name": "#%%\n"
    }
   },
   "outputs": [],
   "source": [
    "# Initialize the algod client (Testnet or Mainnet)\n",
    "algod_client = algod.AlgodClient(algod_token='', algod_address=cred['algod_test'], headers=cred['purestake_token'])"
   ]
  },
  {
   "cell_type": "markdown",
   "metadata": {
    "pycharm": {
     "name": "#%% md\n"
    }
   },
   "source": [
    "### Quiz Coin creation\n",
    "\n",
    "SKIP THE FOLLOWING CELL IF YOU DON'T WANT TO CREATE A NEW ASSET.\n",
    "\n",
    "MyAlgo will be the creator of the asset and also the manager and reserve, for simplicity. Alice will have the power to freeze the asset and to clawback.\n",
    "The total supply of the coin will be of 1'000'000, more than enough for running several quizzes. The coin will have 2 decimals. The unit name will be \"SQC\"."
   ]
  },
  {
   "cell_type": "code",
   "execution_count": 5,
   "metadata": {
    "pycharm": {
     "name": "#%%\n"
    }
   },
   "outputs": [
    {
     "name": "stdout",
     "output_type": "stream",
     "text": [
      "3MPCI2C7LG5MDR7MPOCLMNWMHWI5DLQ5V2D5IYKWUNCLUBEKPQLQ\n",
      "Current round is  28938224.\n",
      "Waiting for round 28938224 to finish.\n",
      "Waiting for round 28938225 to finish.\n",
      "Transaction 3MPCI2C7LG5MDR7MPOCLMNWMHWI5DLQ5V2D5IYKWUNCLUBEKPQLQ confirmed in round 28938226.\n"
     ]
    }
   ],
   "source": [
    "#  coin configuration\n",
    "sp = algod_client.suggested_params()\n",
    "token_supply = 1_000_000\n",
    "token_decimals =  2\n",
    "token_total = token_supply * 10**token_decimals\n",
    "\n",
    "token_name  = \"Samu WSC QuizCoin\"\n",
    "token_url   = \"https://github.com/samueledelloca/WSC-quiz-coin\"\n",
    "token_unitname = \"SQC\"\n",
    "\n",
    "#  asset creation\n",
    "txn = AssetConfigTxn(\n",
    "    sender=MyAlgo['public'],\n",
    "    sp=sp,\n",
    "    total=token_total,\n",
    "    decimals=token_decimals,\n",
    "    default_frozen=False,                      \n",
    "    unit_name=token_unitname,                       \n",
    "    asset_name=token_name,\n",
    "    url=token_url,\n",
    "    manager=MyAlgo['public'],                   # Special roles\n",
    "    reserve=MyAlgo['public'],\n",
    "    freeze=Alice['public'],\n",
    "    clawback=Alice['public'],\n",
    ")\n",
    "\n",
    "#  signing and sending the transaction\n",
    "stxn = txn.sign(MyAlgo['private'])\n",
    "txid = algod_client.send_transaction(stxn)\n",
    "\n",
    "txinfo = wait_for_confirmation(algod_client,txid)\n",
    "\n",
    "#  asset id and explorer URL\n",
    "asset_id = txinfo['asset-index']\n",
    "print(asset_id)\n",
    "print('https://testnet.algoexplorer.io/asset/{}'.format(asset_id))"
   ]
  },
  {
   "cell_type": "code",
   "execution_count": 5,
   "outputs": [],
   "source": [
    "#  in case you skipped the previous cell, that's the asset ID of the official Quiz Coin\n",
    "asset_id = 175523481"
   ],
   "metadata": {
    "collapsed": false,
    "pycharm": {
     "name": "#%%\n"
    }
   }
  },
  {
   "cell_type": "code",
   "execution_count": 6,
   "metadata": {
    "pycharm": {
     "name": "#%%\n"
    }
   },
   "outputs": [
    {
     "data": {
      "text/plain": "       amount  unit   asset-id                name  decimals\n0     130.717  ALGO          0            Algorand         6\n1      10.000  USDC   10458941                USDC         6\n2      73.200   FNS  159159590      Finus WSC coin         2\n3     973.570   WSC  159159603       Samu WSC coin         2\n4    1000.000  SWBC  159489951  Samu WSC Beer Coin         1\n5       1.000  LUG1  159493679          Lugano NFT         0\n6  999950.000   SQC  175523481   Samu WSC QuizCoin         2",
      "text/html": "<div>\n<style scoped>\n    .dataframe tbody tr th:only-of-type {\n        vertical-align: middle;\n    }\n\n    .dataframe tbody tr th {\n        vertical-align: top;\n    }\n\n    .dataframe thead th {\n        text-align: right;\n    }\n</style>\n<table border=\"1\" class=\"dataframe\">\n  <thead>\n    <tr style=\"text-align: right;\">\n      <th></th>\n      <th>amount</th>\n      <th>unit</th>\n      <th>asset-id</th>\n      <th>name</th>\n      <th>decimals</th>\n    </tr>\n  </thead>\n  <tbody>\n    <tr>\n      <th>0</th>\n      <td>130.717</td>\n      <td>ALGO</td>\n      <td>0</td>\n      <td>Algorand</td>\n      <td>6</td>\n    </tr>\n    <tr>\n      <th>1</th>\n      <td>10.000</td>\n      <td>USDC</td>\n      <td>10458941</td>\n      <td>USDC</td>\n      <td>6</td>\n    </tr>\n    <tr>\n      <th>2</th>\n      <td>73.200</td>\n      <td>FNS</td>\n      <td>159159590</td>\n      <td>Finus WSC coin</td>\n      <td>2</td>\n    </tr>\n    <tr>\n      <th>3</th>\n      <td>973.570</td>\n      <td>WSC</td>\n      <td>159159603</td>\n      <td>Samu WSC coin</td>\n      <td>2</td>\n    </tr>\n    <tr>\n      <th>4</th>\n      <td>1000.000</td>\n      <td>SWBC</td>\n      <td>159489951</td>\n      <td>Samu WSC Beer Coin</td>\n      <td>1</td>\n    </tr>\n    <tr>\n      <th>5</th>\n      <td>1.000</td>\n      <td>LUG1</td>\n      <td>159493679</td>\n      <td>Lugano NFT</td>\n      <td>0</td>\n    </tr>\n    <tr>\n      <th>6</th>\n      <td>999950.000</td>\n      <td>SQC</td>\n      <td>175523481</td>\n      <td>Samu WSC QuizCoin</td>\n      <td>2</td>\n    </tr>\n  </tbody>\n</table>\n</div>"
     },
     "execution_count": 6,
     "metadata": {},
     "output_type": "execute_result"
    }
   ],
   "source": [
    "#  check MyAlgo wallet, all the initial supply will be in its possession, if the Quiz Coin has been just created.\n",
    "asset_holdings_df(algod_client, MyAlgo['public'])"
   ]
  },
  {
   "cell_type": "markdown",
   "source": [
    "### Dispenser Delegated Smart Signature\n",
    "\n",
    "I have chosen to use a delegated Smart Signature since dispensing funds is a common operation and it does not require to manually sign the transactions each time. I didn't need a proper Smart Contract for dispensing the Quiz Coins, the Smart Signature is enough.\n",
    "I expect 2 transactions, hence I use a transaction group: the first will be the amount of Algo to pay, in this case 0 since it is a free dispenser, and the second one will be the amount of Quiz Coins to withdraw from the Smart Signature.\n",
    "I could have put a limit on the amount of Quiz Coins that one can request, but since I will fund the dispenser with a limited quantity each time I need it, a big request of Quiz Coins is not really a problem, since it will fail for insufficient funds in the Smart Signature."
   ],
   "metadata": {
    "collapsed": false,
    "pycharm": {
     "name": "#%% md\n"
    }
   }
  },
  {
   "cell_type": "code",
   "execution_count": 33,
   "outputs": [],
   "source": [
    "#  conditions as a PyTeal program\n",
    "\n",
    "dispense_condition = And(\n",
    "    Global.group_size() == Int(2),  #  atomic swap with 2 transactions\n",
    "    Gtxn[0].type_enum() == TxnType.Payment,  #  the first transaction is a payment in ALGOs\n",
    "    Gtxn[0].xfer_asset() == Int(0),\n",
    "    Gtxn[1].type_enum() == TxnType.AssetTransfer,  #  the second transaction is an asset transfer in Quiz Coins\n",
    "    Gtxn[1].xfer_asset() == Int(asset_id),\n",
    "    Int(int(1 * 1E6)) * Gtxn[0].amount() == Int(0), #  the amount of ALGO has to be 0, since this is a free dispenser\n",
    "    #  security conditions\n",
    "    Gtxn[0].receiver() == Gtxn[1].sender(),\n",
    "    Gtxn[0].sender() == Gtxn[1].asset_receiver(),\n",
    "    Gtxn[0].rekey_to() == Global.zero_address(),\n",
    "    Gtxn[0].close_remainder_to() == Global.zero_address(),\n",
    "    Gtxn[1].rekey_to() == Global.zero_address(),\n",
    "    Gtxn[1].asset_close_to() == Global.zero_address(),\n",
    ")\n",
    "\n",
    "optin_condition = And(\n",
    "    Global.group_size() == Int(1),\n",
    "    Txn.type_enum() == TxnType.AssetTransfer,\n",
    "    Txn.asset_amount() == Int(0),\n",
    "    Txn.rekey_to() == Global.zero_address(),\n",
    "    Txn.close_remainder_to() == Global.zero_address(),\n",
    ")\n",
    "\n",
    "a = Int(random.randrange(2 ** 32 - 1))\n",
    "random_cond = (a == a)\n",
    "\n",
    "fee_cond = Txn.fee() <= Int(1000)\n",
    "\n",
    "dispense_pyteal = And(\n",
    "    random_cond,\n",
    "    fee_cond,\n",
    "    If(\n",
    "        Global.group_size() == Int(1),  # only admitted transactions are opt-in (1 transaction) and dispense requests (2 transactions)\n",
    "        optin_condition,\n",
    "        dispense_condition\n",
    "    )\n",
    ")"
   ],
   "metadata": {
    "collapsed": false,
    "pycharm": {
     "name": "#%%\n"
    }
   }
  },
  {
   "cell_type": "code",
   "execution_count": 34,
   "outputs": [
    {
     "name": "stdout",
     "output_type": "stream",
     "text": [
      "Smart signature addr:  YVGRKP255O2MRGK4P6UVTQU2W4DNZSOMI4PXPLEQSN5WV7GJEIVDHE4QGQ\n",
      "Smart signature code:  CCAEAQCL7fyKDAQkJBIxAYHoBw4QMgQiEkAAWzIEgQISMwAQIhIQMwARIxIQMwEQJRIQMwERgZmN2VMSEIHAhD0zAAgLIxIQMwAHMwEAEhAzAAAzARQSEDMAIDIDEhAzAAkyAxIQMwEgMgMSEDMBFTIDEhBCABoyBCISMRAlEhAxEiMSEDEgMgMSEDEJMgMSEBBD\n",
      "Current round is  29025454.\n",
      "Waiting for round 29025454 to finish.\n",
      "Waiting for round 29025455 to finish.\n",
      "Transaction AKMJODXBOVULJVXLC5E4CUOMDE4AZ6COIOKV5EUZ5RDHSRNQNZ6Q confirmed in round 29025456.\n",
      "Current round is  29025456.\n",
      "Waiting for round 29025456 to finish.\n",
      "Waiting for round 29025457 to finish.\n",
      "Transaction NA665XH2OITI24DBNVFFTM3OL6S6ZTNOMUB5LBUOCYE6SWNWTEXA confirmed in round 29025458.\n"
     ]
    }
   ],
   "source": [
    "#  compilation of the Dispense program\n",
    "\n",
    "dispense_teal = compileTeal(dispense_pyteal, Mode.Signature, version=8)\n",
    "Dispense = algod_client.compile(dispense_teal)\n",
    "print(\"Smart signature addr: \", Dispense['hash'])\n",
    "print(\"Smart signature code: \", Dispense['result'])\n",
    "\n",
    "#  dispense funding: min holdings + min holdings for 1 ASA + TX fee for 50 swaps\n",
    "sp = algod_client.suggested_params()\n",
    "amt = int(0.1 * 1e6) + int(0.1 * 1e6) + int(50 * 0.001 * 1e6)\n",
    "txn = transaction.PaymentTxn(sender=MyAlgo['public'], sp=sp,\n",
    "                             receiver=Dispense['hash'], amt=amt)\n",
    "\n",
    "#  funding signing and sending\n",
    "stxn = txn.sign(MyAlgo['private'])\n",
    "\n",
    "txid = algod_client.send_transaction(stxn)\n",
    "txinfo = wait_for_confirmation(algod_client, txid)\n",
    "\n",
    "#  Smart Contract asset opt-in\n",
    "sp = algod_client.suggested_params()\n",
    "txn = AssetTransferTxn(Dispense['hash'], sp, Dispense['hash'], 0, asset_id)\n",
    "\n",
    "#  opt-in signing and sending\n",
    "encodedProg = Dispense['result'].encode()\n",
    "program = base64.decodebytes(encodedProg)\n",
    "lsig = LogicSig(program)\n",
    "stxn = LogicSigTransaction(txn, lsig)\n",
    "\n",
    "txid = algod_client.send_transaction(stxn)\n",
    "txinfo = wait_for_confirmation(algod_client, txid)"
   ],
   "metadata": {
    "collapsed": false,
    "pycharm": {
     "name": "#%%\n"
    }
   }
  },
  {
   "cell_type": "code",
   "execution_count": 15,
   "outputs": [
    {
     "name": "stdout",
     "output_type": "stream",
     "text": [
      "Current round is  29025358.\n",
      "Waiting for round 29025358 to finish.\n",
      "Waiting for round 29025359 to finish.\n",
      "Transaction D2T7G5J4CA25UB7FMAH6BQ67VV2JPZILMWX3P3HZR6IYSXKPNLHQ confirmed in round 29025360.\n"
     ]
    }
   ],
   "source": [
    "#  putting 50 Quiz Coin inside the dispenser\n",
    "asset_decimals = algod_client.asset_info(asset_id)['params']['decimals']\n",
    "amt = int(50 * 10 ** asset_decimals)\n",
    "\n",
    "sp = algod_client.suggested_params()\n",
    "txn = AssetTransferTxn(\n",
    "    sender=MyAlgo['public'],\n",
    "    sp=sp,\n",
    "    receiver=Dispense['hash'],\n",
    "    amt=amt,\n",
    "    index=asset_id)\n",
    "\n",
    "#  signing and sensing\n",
    "stxn = txn.sign(MyAlgo['private'])\n",
    "txid = algod_client.send_transaction(stxn)\n",
    "\n",
    "txinfo = wait_for_confirmation(algod_client, txid)"
   ],
   "metadata": {
    "collapsed": false,
    "pycharm": {
     "name": "#%%\n"
    }
   }
  },
  {
   "cell_type": "code",
   "execution_count": 16,
   "outputs": [
    {
     "name": "stdout",
     "output_type": "stream",
     "text": [
      "Current round is  29025360.\n",
      "Waiting for round 29025360 to finish.\n",
      "Transaction PMCPIEWW6GNVRLVBVADJLDZ4O4HRODQWES4YJXDAPBGU2X3IPGNQ confirmed in round 29025362.\n"
     ]
    }
   ],
   "source": [
    "#  Bob (a user) needs to opt into the Quiz Coin before participating.\n",
    "\n",
    "sp = algod_client.suggested_params()\n",
    "amt = int(0)\n",
    "\n",
    "txn = AssetTransferTxn(\n",
    "    sender=Bob['public'],\n",
    "    sp=sp,\n",
    "    receiver=Bob['public'],\n",
    "    amt=amt,\n",
    "    index=asset_id\n",
    ")\n",
    "\n",
    "#  opt-in signing and sending\n",
    "stxn = txn.sign(Bob['private'])\n",
    "txid = algod_client.send_transaction(stxn)\n",
    "\n",
    "txinfo = wait_for_confirmation(algod_client, txid)"
   ],
   "metadata": {
    "collapsed": false,
    "pycharm": {
     "name": "#%%\n"
    }
   }
  },
  {
   "cell_type": "code",
   "execution_count": 17,
   "outputs": [
    {
     "name": "stdout",
     "output_type": "stream",
     "text": [
      "Current round is  29025384.\n",
      "Waiting for round 29025384 to finish.\n",
      "Waiting for round 29025385 to finish.\n",
      "Transaction CYM32A6RW7IXHQX2MVY57ENHWADJKVL2KZO4IAYUEYUMDPM4KAUQ confirmed in round 29025386.\n"
     ]
    }
   ],
   "source": [
    "#  the Dispenser is ready to use. Bob gets 5 Quiz Coins.\n",
    "\n",
    "sp = algod_client.suggested_params()\n",
    "\n",
    "#  ALGO payment from Bob to Dispenser\n",
    "amt_1 = int(0.0 * 1e6)\n",
    "txn_1 = PaymentTxn(Bob['public'], sp, Dispense['hash'], amt_1)\n",
    "\n",
    "#  Quiz Coin asset transfer from Dispenser to Bob\n",
    "amt_2 = int(5 * 10**asset_decimals)\n",
    "txn_2 = AssetTransferTxn(Dispense['hash'], sp, Bob['public'], amt_2, asset_id)\n",
    "\n",
    "#  transaction group creation\n",
    "gid = transaction.calculate_group_id([txn_1, txn_2])\n",
    "txn_1.group = gid  # add group_id to each transaction\n",
    "txn_2.group = gid\n",
    "\n",
    "#  Bob signs the first transaction, Smart signature will authorize the second one\n",
    "stxn_1 = txn_1.sign(Bob['private'])\n",
    "encodedProg = Dispense['result'].encode()\n",
    "program = base64.decodebytes(encodedProg)\n",
    "lsig = LogicSig(program)\n",
    "stxn_2 = LogicSigTransaction(txn_2, lsig)\n",
    "\n",
    "#  transactions sending\n",
    "signed_group = [stxn_1, stxn_2]\n",
    "txid = algod_client.send_transactions(signed_group)\n",
    "\n",
    "txinfo = wait_for_confirmation(algod_client, txid)"
   ],
   "metadata": {
    "collapsed": false,
    "pycharm": {
     "name": "#%%\n"
    }
   }
  },
  {
   "cell_type": "markdown",
   "source": [
    "### Question and answer\n",
    "\n",
    "Now that the Quiz Coins can be received to the dispenser, is time to create the Quiz. I decided to use again a Smart signature with a password which unlocks the prize: the password corresponds to the answer. A user has to send exactly 1 Quiz Coin for partecipating to the Quiz. In this case the question is \"In which Country is Lugano Located?\".\n",
    "The users have a week of time to submit their answer. After a week submissions are not admitted anymore, and the Quiz Company (MyAlgo) will retrieve the prize, if still available. If the Quiz get answered, further answers will result in a failure, since there won't be money in the Smart Signature anymore."
   ],
   "metadata": {
    "collapsed": false,
    "pycharm": {
     "name": "#%% md\n"
    }
   }
  },
  {
   "cell_type": "code",
   "execution_count": 35,
   "outputs": [],
   "source": [
    "#  Quiz program definition\n",
    "\n",
    "secret_password = 'Switzerland'\n",
    "pwdhash = hashlib.sha256(secret_password.encode())\n",
    "\n",
    "start_round = algod_client.status()[\"last-round\"]\n",
    "\n",
    "#  withdraw condition: only MyAlgo (the Quiz Company) can withdraw funds from the Smart Contract, if 1 week is passed\n",
    "withdraw_cond = And (\n",
    "    Gtxn[0].type_enum() == TxnType.AssetTransfer,  # the first transaction is an asset transfer for the Quiz Coin\n",
    "    Gtxn[0].xfer_asset() == Int(asset_id),\n",
    "    Gtxn[0].asset_receiver() == Addr(MyAlgo[\"public\"]),\n",
    "    Gtxn[1].type_enum() == TxnType.Payment,  # the second transaction is an ALGO payment for the prize\n",
    "    Gtxn[1].xfer_asset() == Int(0),\n",
    "    Gtxn[1].receiver() == Addr(MyAlgo[\"public\"])\n",
    ")\n",
    "\n",
    "q_and_a_condition = And(\n",
    "    Global.group_size() == Int(2),  # 2 transactions: 1 for getting the Quiz Coin and 1 for submitting the prize\n",
    "    Gtxn[0].type_enum() == TxnType.AssetTransfer,  # the first transaction is an asset transfer for the Quiz Coin\n",
    "    Gtxn[0].xfer_asset() == Int(asset_id),\n",
    "    Gtxn[1].type_enum() == TxnType.Payment,  # the second transaction is an ALGO payment for the prize\n",
    "    Gtxn[1].xfer_asset() == Int(0),\n",
    "    Gtxn[0].asset_amount() == Int(int(1 * 1E2)), # receive exactly 1 Quiz Coin\n",
    "    Sha256(Gtxn[0].note()) == Bytes(\"base16\", pwdhash.hexdigest()),  # check if the answer is correct\n",
    "    # security checks\n",
    "    Gtxn[0].asset_receiver() == Gtxn[1].sender(),\n",
    "    Gtxn[0].sender() == Gtxn[1].receiver(),\n",
    "    Gtxn[0].rekey_to() == Global.zero_address(),\n",
    "    Gtxn[0].close_remainder_to() == Global.zero_address(),\n",
    "    Gtxn[1].rekey_to() == Global.zero_address(),\n",
    "    Gtxn[1].asset_close_to() == Global.zero_address(),\n",
    ")\n",
    "\n",
    "vending_condition = (\n",
    "    If(\n",
    "        Txn.first_valid() < Int(start_round + 201600),  #  quiz closure after 1 week\n",
    "        # Txn.first_valid() < Int(start_round + 10),  # 30 seconds instead of 1 week only for testing\n",
    "        q_and_a_condition,  # if the Quiz is still valid, answers are accepted\n",
    "        withdraw_cond  #  otherwise the company can withdraw the funds\n",
    "    )\n",
    ")\n",
    "\n",
    "optin_condition = And(\n",
    "    Global.group_size() == Int(1),\n",
    "    Txn.type_enum() == TxnType.AssetTransfer,\n",
    "    Txn.asset_amount() == Int(0),\n",
    "    Txn.rekey_to() == Global.zero_address(),\n",
    "    Txn.close_remainder_to() == Global.zero_address(),\n",
    ")\n",
    "\n",
    "a = Int(random.randrange(2 ** 32 - 1))\n",
    "random_cond = (a == a)\n",
    "\n",
    "fee_cond = Txn.fee() <= Int(1000)\n",
    "\n",
    "quiz_pyteal = And(\n",
    "    random_cond,\n",
    "    fee_cond,\n",
    "    If(\n",
    "        Global.group_size() == Int(1),\n",
    "        optin_condition,\n",
    "        vending_condition\n",
    "    )\n",
    ")"
   ],
   "metadata": {
    "collapsed": false,
    "pycharm": {
     "name": "#%%\n"
    }
   }
  },
  {
   "cell_type": "code",
   "execution_count": 36,
   "outputs": [
    {
     "name": "stdout",
     "output_type": "stream",
     "text": [
      "Smart signature addr:  VRBJLYDADJWW6NF7NEDTG6343LGUYZFPSCGVL374ZXFZEYHGDDPISQXI7M\n",
      "Smart signature code:  CCAFAQQAut/vswGZjdlTJgEgmLUFmOFjnZBD7fj7YFWjJ9+GwqzlS0hj1j21yzBGIgglJRIxAYHoBw4QMgQiEkAArjECgZnx9w0MQAAnMwAQIxIzABEhBBIQMwAUKBIQMwEQIhIQMwERJBIQMwEHKBIQQgCWMgSBAhIzABAjEhAzABEhBBIQMwEQIhIQMwERJBIQMwASgWQSEDMABQGAICJ1WDGW15FAWJKqyg2HdDyHLz/AzzMIpsPvglKJGKqKEhAzABQzAQASEDMAADMBBxIQMwAgMgMSEDMACTIDEhAzASAyAxIQMwEVMgMSEEIAGjIEIhIxECMSEDESJBIQMSAyAxIQMQkyAxIQEEM=\n"
     ]
    }
   ],
   "source": [
    "#  Quiz program compilation\n",
    "quiz_teal = compileTeal(quiz_pyteal, Mode.Signature, version=8)\n",
    "\n",
    "Quiz = algod_client.compile(quiz_teal)\n",
    "print(\"Smart signature addr: \", Quiz['hash'])\n",
    "print(\"Smart signature code: \", Quiz['result'])"
   ],
   "metadata": {
    "collapsed": false,
    "pycharm": {
     "name": "#%%\n"
    }
   }
  },
  {
   "cell_type": "code",
   "execution_count": 20,
   "outputs": [
    {
     "name": "stdout",
     "output_type": "stream",
     "text": [
      "Current round is  29025391.\n",
      "Waiting for round 29025391 to finish.\n",
      "Waiting for round 29025392 to finish.\n",
      "Waiting for round 29025393 to finish.\n",
      "Transaction FA2JWZLZ5Z7VRWXOFXPRBTAXTMXCE2ZBUQ7GSWSIYZHXONIRLAWA confirmed in round 29025394.\n"
     ]
    }
   ],
   "source": [
    "#  Smart Signature funding\n",
    "sp = algod_client.suggested_params()\n",
    "amt = int(5.1 * 1e6)\n",
    "txn = transaction.PaymentTxn(sender=MyAlgo['public'], sp=sp, receiver=Quiz['hash'], amt=amt)\n",
    "\n",
    "#  transaction signing and sending\n",
    "stxn = txn.sign(MyAlgo['private'])\n",
    "txid = algod_client.send_transaction(stxn)\n",
    "\n",
    "txinfo = wait_for_confirmation(algod_client, txid)"
   ],
   "metadata": {
    "collapsed": false,
    "pycharm": {
     "name": "#%%\n"
    }
   }
  },
  {
   "cell_type": "code",
   "execution_count": 22,
   "outputs": [
    {
     "name": "stdout",
     "output_type": "stream",
     "text": [
      "Current round is  29025401.\n",
      "Waiting for round 29025401 to finish.\n",
      "Waiting for round 29025402 to finish.\n",
      "Transaction XJSV2JXF4YM3QZ3ICOICETZ5GLGYGT4VLCNI7OOVM7LEAGUUWHHQ confirmed in round 29025403.\n"
     ]
    }
   ],
   "source": [
    "#  Quiz Smart Signature asset opt-in (into Quiz Coin)\n",
    "sp = algod_client.suggested_params()\n",
    "txn = AssetTransferTxn(Quiz['hash'], sp, Quiz['hash'], 0, asset_id)\n",
    "\n",
    "#  transaction signing and sending\n",
    "encodedProg = Quiz['result'].encode()\n",
    "program = base64.decodebytes(encodedProg)\n",
    "lsig = LogicSig(program)\n",
    "stxn = LogicSigTransaction(txn, lsig)\n",
    "\n",
    "txid = algod_client.send_transaction(stxn)\n",
    "\n",
    "txinfo = wait_for_confirmation(algod_client, txid)"
   ],
   "metadata": {
    "collapsed": false,
    "pycharm": {
     "name": "#%%\n"
    }
   }
  },
  {
   "cell_type": "code",
   "execution_count": 24,
   "outputs": [
    {
     "name": "stdout",
     "output_type": "stream",
     "text": [
      "Current round is  29025409.\n",
      "Waiting for round 29025409 to finish.\n",
      "Waiting for round 29025410 to finish.\n",
      "Transaction 2RIO7CZ6UHN6UMKGYMN2E4YCH227VCVSDZSOYZZAZSLEGD7ZPKBA confirmed in round 29025411.\n"
     ]
    }
   ],
   "source": [
    "#  Quiz answer submission\n",
    "\n",
    "sp = algod_client.suggested_params()\n",
    "\n",
    "my_note = 'Switzerland'\n",
    "note = my_note.encode()\n",
    "\n",
    "#  Quiz Coin asset transfer from Bob to Smart Signature\n",
    "amt_1 = int(1.0 * 1e2)\n",
    "txn_1 = AssetTransferTxn(Bob['public'], sp, Quiz['hash'], amt_1, asset_id, note=note)\n",
    "\n",
    "#  Algo prize transfer from Smart Sigature to Bob\n",
    "# amt_2 = int(50.0 * 1e6)\n",
    "amt_2 = int(1.0 * 1e6)  # it should be 50, I've used lower quantities for testing\n",
    "txn_2 = PaymentTxn(Quiz['hash'], sp, Bob['public'], amt_2)\n",
    "\n",
    "#  transaction group creation, signing and sending\n",
    "gid = transaction.calculate_group_id([txn_1, txn_2])\n",
    "txn_1.group = gid\n",
    "txn_2.group = gid\n",
    "\n",
    "stxn_1 = txn_1.sign(Bob['private'])\n",
    "encodedProg = Quiz['result'].encode()\n",
    "program = base64.decodebytes(encodedProg)\n",
    "lsig = LogicSig(program)\n",
    "stxn_2 = LogicSigTransaction(txn_2, lsig)\n",
    "\n",
    "signed_group = [stxn_1, stxn_2]\n",
    "txid = algod_client.send_transactions(signed_group)\n",
    "\n",
    "txinfo = wait_for_confirmation(algod_client, txid)"
   ],
   "metadata": {
    "collapsed": false,
    "pycharm": {
     "name": "#%%\n"
    }
   }
  },
  {
   "cell_type": "code",
   "execution_count": 54,
   "outputs": [
    {
     "ename": "AlgodHTTPError",
     "evalue": "TransactionPool.Remember: transaction BD4A53KEYRYDM7EAPUPXIDJCMPQUVQPDKVWIKWY67PCEFXPCLGJA: underflow on subtracting 100 from sender amount 0",
     "output_type": "error",
     "traceback": [
      "\u001B[0;31m---------------------------------------------------------------------------\u001B[0m",
      "\u001B[0;31mHTTPError\u001B[0m                                 Traceback (most recent call last)",
      "File \u001B[0;32m~/Desktop/Docs/Master/WritingSmartContracts/WSC Notebooks/venv/lib/python3.10/site-packages/algosdk/v2client/algod.py:78\u001B[0m, in \u001B[0;36mAlgodClient.algod_request\u001B[0;34m(self, method, requrl, params, data, headers, response_format)\u001B[0m\n\u001B[1;32m     77\u001B[0m \u001B[38;5;28;01mtry\u001B[39;00m:\n\u001B[0;32m---> 78\u001B[0m     resp \u001B[38;5;241m=\u001B[39m \u001B[43murlopen\u001B[49m\u001B[43m(\u001B[49m\u001B[43mreq\u001B[49m\u001B[43m)\u001B[49m\n\u001B[1;32m     79\u001B[0m \u001B[38;5;28;01mexcept\u001B[39;00m urllib\u001B[38;5;241m.\u001B[39merror\u001B[38;5;241m.\u001B[39mHTTPError \u001B[38;5;28;01mas\u001B[39;00m e:\n",
      "File \u001B[0;32m/usr/lib/python3.10/urllib/request.py:216\u001B[0m, in \u001B[0;36murlopen\u001B[0;34m(url, data, timeout, cafile, capath, cadefault, context)\u001B[0m\n\u001B[1;32m    215\u001B[0m     opener \u001B[38;5;241m=\u001B[39m _opener\n\u001B[0;32m--> 216\u001B[0m \u001B[38;5;28;01mreturn\u001B[39;00m \u001B[43mopener\u001B[49m\u001B[38;5;241;43m.\u001B[39;49m\u001B[43mopen\u001B[49m\u001B[43m(\u001B[49m\u001B[43murl\u001B[49m\u001B[43m,\u001B[49m\u001B[43m \u001B[49m\u001B[43mdata\u001B[49m\u001B[43m,\u001B[49m\u001B[43m \u001B[49m\u001B[43mtimeout\u001B[49m\u001B[43m)\u001B[49m\n",
      "File \u001B[0;32m/usr/lib/python3.10/urllib/request.py:525\u001B[0m, in \u001B[0;36mOpenerDirector.open\u001B[0;34m(self, fullurl, data, timeout)\u001B[0m\n\u001B[1;32m    524\u001B[0m     meth \u001B[38;5;241m=\u001B[39m \u001B[38;5;28mgetattr\u001B[39m(processor, meth_name)\n\u001B[0;32m--> 525\u001B[0m     response \u001B[38;5;241m=\u001B[39m \u001B[43mmeth\u001B[49m\u001B[43m(\u001B[49m\u001B[43mreq\u001B[49m\u001B[43m,\u001B[49m\u001B[43m \u001B[49m\u001B[43mresponse\u001B[49m\u001B[43m)\u001B[49m\n\u001B[1;32m    527\u001B[0m \u001B[38;5;28;01mreturn\u001B[39;00m response\n",
      "File \u001B[0;32m/usr/lib/python3.10/urllib/request.py:634\u001B[0m, in \u001B[0;36mHTTPErrorProcessor.http_response\u001B[0;34m(self, request, response)\u001B[0m\n\u001B[1;32m    633\u001B[0m \u001B[38;5;28;01mif\u001B[39;00m \u001B[38;5;129;01mnot\u001B[39;00m (\u001B[38;5;241m200\u001B[39m \u001B[38;5;241m<\u001B[39m\u001B[38;5;241m=\u001B[39m code \u001B[38;5;241m<\u001B[39m \u001B[38;5;241m300\u001B[39m):\n\u001B[0;32m--> 634\u001B[0m     response \u001B[38;5;241m=\u001B[39m \u001B[38;5;28;43mself\u001B[39;49m\u001B[38;5;241;43m.\u001B[39;49m\u001B[43mparent\u001B[49m\u001B[38;5;241;43m.\u001B[39;49m\u001B[43merror\u001B[49m\u001B[43m(\u001B[49m\n\u001B[1;32m    635\u001B[0m \u001B[43m        \u001B[49m\u001B[38;5;124;43m'\u001B[39;49m\u001B[38;5;124;43mhttp\u001B[39;49m\u001B[38;5;124;43m'\u001B[39;49m\u001B[43m,\u001B[49m\u001B[43m \u001B[49m\u001B[43mrequest\u001B[49m\u001B[43m,\u001B[49m\u001B[43m \u001B[49m\u001B[43mresponse\u001B[49m\u001B[43m,\u001B[49m\u001B[43m \u001B[49m\u001B[43mcode\u001B[49m\u001B[43m,\u001B[49m\u001B[43m \u001B[49m\u001B[43mmsg\u001B[49m\u001B[43m,\u001B[49m\u001B[43m \u001B[49m\u001B[43mhdrs\u001B[49m\u001B[43m)\u001B[49m\n\u001B[1;32m    637\u001B[0m \u001B[38;5;28;01mreturn\u001B[39;00m response\n",
      "File \u001B[0;32m/usr/lib/python3.10/urllib/request.py:563\u001B[0m, in \u001B[0;36mOpenerDirector.error\u001B[0;34m(self, proto, *args)\u001B[0m\n\u001B[1;32m    562\u001B[0m args \u001B[38;5;241m=\u001B[39m (\u001B[38;5;28mdict\u001B[39m, \u001B[38;5;124m'\u001B[39m\u001B[38;5;124mdefault\u001B[39m\u001B[38;5;124m'\u001B[39m, \u001B[38;5;124m'\u001B[39m\u001B[38;5;124mhttp_error_default\u001B[39m\u001B[38;5;124m'\u001B[39m) \u001B[38;5;241m+\u001B[39m orig_args\n\u001B[0;32m--> 563\u001B[0m \u001B[38;5;28;01mreturn\u001B[39;00m \u001B[38;5;28;43mself\u001B[39;49m\u001B[38;5;241;43m.\u001B[39;49m\u001B[43m_call_chain\u001B[49m\u001B[43m(\u001B[49m\u001B[38;5;241;43m*\u001B[39;49m\u001B[43margs\u001B[49m\u001B[43m)\u001B[49m\n",
      "File \u001B[0;32m/usr/lib/python3.10/urllib/request.py:496\u001B[0m, in \u001B[0;36mOpenerDirector._call_chain\u001B[0;34m(self, chain, kind, meth_name, *args)\u001B[0m\n\u001B[1;32m    495\u001B[0m func \u001B[38;5;241m=\u001B[39m \u001B[38;5;28mgetattr\u001B[39m(handler, meth_name)\n\u001B[0;32m--> 496\u001B[0m result \u001B[38;5;241m=\u001B[39m \u001B[43mfunc\u001B[49m\u001B[43m(\u001B[49m\u001B[38;5;241;43m*\u001B[39;49m\u001B[43margs\u001B[49m\u001B[43m)\u001B[49m\n\u001B[1;32m    497\u001B[0m \u001B[38;5;28;01mif\u001B[39;00m result \u001B[38;5;129;01mis\u001B[39;00m \u001B[38;5;129;01mnot\u001B[39;00m \u001B[38;5;28;01mNone\u001B[39;00m:\n",
      "File \u001B[0;32m/usr/lib/python3.10/urllib/request.py:643\u001B[0m, in \u001B[0;36mHTTPDefaultErrorHandler.http_error_default\u001B[0;34m(self, req, fp, code, msg, hdrs)\u001B[0m\n\u001B[1;32m    642\u001B[0m \u001B[38;5;28;01mdef\u001B[39;00m \u001B[38;5;21mhttp_error_default\u001B[39m(\u001B[38;5;28mself\u001B[39m, req, fp, code, msg, hdrs):\n\u001B[0;32m--> 643\u001B[0m     \u001B[38;5;28;01mraise\u001B[39;00m HTTPError(req\u001B[38;5;241m.\u001B[39mfull_url, code, msg, hdrs, fp)\n",
      "\u001B[0;31mHTTPError\u001B[0m: HTTP Error 400: Bad Request",
      "\nDuring handling of the above exception, another exception occurred:\n",
      "\u001B[0;31mAlgodHTTPError\u001B[0m                            Traceback (most recent call last)",
      "Cell \u001B[0;32mIn[54], line 26\u001B[0m\n\u001B[1;32m     24\u001B[0m \u001B[38;5;66;03m# Step 3: assemble transaction group and send\u001B[39;00m\n\u001B[1;32m     25\u001B[0m signed_group \u001B[38;5;241m=\u001B[39m [stxn_1, stxn_2]\n\u001B[0;32m---> 26\u001B[0m txid \u001B[38;5;241m=\u001B[39m \u001B[43malgod_client\u001B[49m\u001B[38;5;241;43m.\u001B[39;49m\u001B[43msend_transactions\u001B[49m\u001B[43m(\u001B[49m\u001B[43msigned_group\u001B[49m\u001B[43m)\u001B[49m\n\u001B[1;32m     28\u001B[0m \u001B[38;5;66;03m# Step 4: wait for confirmation\u001B[39;00m\n\u001B[1;32m     29\u001B[0m txinfo \u001B[38;5;241m=\u001B[39m wait_for_confirmation(algod_client, txid)\n",
      "File \u001B[0;32m~/Desktop/Docs/Master/WritingSmartContracts/WSC Notebooks/venv/lib/python3.10/site-packages/algosdk/v2client/algod.py:363\u001B[0m, in \u001B[0;36mAlgodClient.send_transactions\u001B[0;34m(self, txns, **kwargs)\u001B[0m\n\u001B[1;32m    358\u001B[0m     \u001B[38;5;28;01massert\u001B[39;00m \u001B[38;5;129;01mnot\u001B[39;00m \u001B[38;5;28misinstance\u001B[39m(\n\u001B[1;32m    359\u001B[0m         txn, transaction\u001B[38;5;241m.\u001B[39mTransaction\n\u001B[1;32m    360\u001B[0m     ), \u001B[38;5;124m\"\u001B[39m\u001B[38;5;124mAttempt to send UNSIGNED transaction \u001B[39m\u001B[38;5;132;01m{}\u001B[39;00m\u001B[38;5;124m\"\u001B[39m\u001B[38;5;241m.\u001B[39mformat(txn)\n\u001B[1;32m    361\u001B[0m     serialized\u001B[38;5;241m.\u001B[39mappend(base64\u001B[38;5;241m.\u001B[39mb64decode(encoding\u001B[38;5;241m.\u001B[39mmsgpack_encode(txn)))\n\u001B[0;32m--> 363\u001B[0m \u001B[38;5;28;01mreturn\u001B[39;00m \u001B[38;5;28;43mself\u001B[39;49m\u001B[38;5;241;43m.\u001B[39;49m\u001B[43msend_raw_transaction\u001B[49m\u001B[43m(\u001B[49m\n\u001B[1;32m    364\u001B[0m \u001B[43m    \u001B[49m\u001B[43mbase64\u001B[49m\u001B[38;5;241;43m.\u001B[39;49m\u001B[43mb64encode\u001B[49m\u001B[43m(\u001B[49m\u001B[38;5;124;43mb\u001B[39;49m\u001B[38;5;124;43m\"\u001B[39;49m\u001B[38;5;124;43m\"\u001B[39;49m\u001B[38;5;241;43m.\u001B[39;49m\u001B[43mjoin\u001B[49m\u001B[43m(\u001B[49m\u001B[43mserialized\u001B[49m\u001B[43m)\u001B[49m\u001B[43m)\u001B[49m\u001B[43m,\u001B[49m\u001B[43m \u001B[49m\u001B[38;5;241;43m*\u001B[39;49m\u001B[38;5;241;43m*\u001B[39;49m\u001B[43mkwargs\u001B[49m\n\u001B[1;32m    365\u001B[0m \u001B[43m\u001B[49m\u001B[43m)\u001B[49m\n",
      "File \u001B[0;32m~/Desktop/Docs/Master/WritingSmartContracts/WSC Notebooks/venv/lib/python3.10/site-packages/algosdk/v2client/algod.py:293\u001B[0m, in \u001B[0;36mAlgodClient.send_raw_transaction\u001B[0;34m(self, txn, **kwargs)\u001B[0m\n\u001B[1;32m    287\u001B[0m headers \u001B[38;5;241m=\u001B[39m util\u001B[38;5;241m.\u001B[39mbuild_headers_from(\n\u001B[1;32m    288\u001B[0m     kwargs\u001B[38;5;241m.\u001B[39mget(\u001B[38;5;124m\"\u001B[39m\u001B[38;5;124mheaders\u001B[39m\u001B[38;5;124m\"\u001B[39m, \u001B[38;5;28;01mFalse\u001B[39;00m),\n\u001B[1;32m    289\u001B[0m     {\u001B[38;5;124m\"\u001B[39m\u001B[38;5;124mContent-Type\u001B[39m\u001B[38;5;124m\"\u001B[39m: \u001B[38;5;124m\"\u001B[39m\u001B[38;5;124mapplication/x-binary\u001B[39m\u001B[38;5;124m\"\u001B[39m},\n\u001B[1;32m    290\u001B[0m )\n\u001B[1;32m    291\u001B[0m kwargs[\u001B[38;5;124m\"\u001B[39m\u001B[38;5;124mheaders\u001B[39m\u001B[38;5;124m\"\u001B[39m] \u001B[38;5;241m=\u001B[39m headers\n\u001B[0;32m--> 293\u001B[0m \u001B[38;5;28;01mreturn\u001B[39;00m \u001B[38;5;28;43mself\u001B[39;49m\u001B[38;5;241;43m.\u001B[39;49m\u001B[43malgod_request\u001B[49m\u001B[43m(\u001B[49m\u001B[38;5;124;43m\"\u001B[39;49m\u001B[38;5;124;43mPOST\u001B[39;49m\u001B[38;5;124;43m\"\u001B[39;49m\u001B[43m,\u001B[49m\u001B[43m \u001B[49m\u001B[43mreq\u001B[49m\u001B[43m,\u001B[49m\u001B[43m \u001B[49m\u001B[43mdata\u001B[49m\u001B[38;5;241;43m=\u001B[39;49m\u001B[43mtxn\u001B[49m\u001B[43m,\u001B[49m\u001B[43m \u001B[49m\u001B[38;5;241;43m*\u001B[39;49m\u001B[38;5;241;43m*\u001B[39;49m\u001B[43mkwargs\u001B[49m\u001B[43m)\u001B[49m[\u001B[38;5;124m\"\u001B[39m\u001B[38;5;124mtxId\u001B[39m\u001B[38;5;124m\"\u001B[39m]\n",
      "File \u001B[0;32m~/Desktop/Docs/Master/WritingSmartContracts/WSC Notebooks/venv/lib/python3.10/site-packages/algosdk/v2client/algod.py:85\u001B[0m, in \u001B[0;36mAlgodClient.algod_request\u001B[0;34m(self, method, requrl, params, data, headers, response_format)\u001B[0m\n\u001B[1;32m     83\u001B[0m         e \u001B[38;5;241m=\u001B[39m json\u001B[38;5;241m.\u001B[39mloads(e)[\u001B[38;5;124m\"\u001B[39m\u001B[38;5;124mmessage\u001B[39m\u001B[38;5;124m\"\u001B[39m]\n\u001B[1;32m     84\u001B[0m     \u001B[38;5;28;01mfinally\u001B[39;00m:\n\u001B[0;32m---> 85\u001B[0m         \u001B[38;5;28;01mraise\u001B[39;00m error\u001B[38;5;241m.\u001B[39mAlgodHTTPError(e, code)\n\u001B[1;32m     86\u001B[0m \u001B[38;5;28;01mif\u001B[39;00m response_format \u001B[38;5;241m==\u001B[39m \u001B[38;5;124m\"\u001B[39m\u001B[38;5;124mjson\u001B[39m\u001B[38;5;124m\"\u001B[39m:\n\u001B[1;32m     87\u001B[0m     \u001B[38;5;28;01mtry\u001B[39;00m:\n",
      "\u001B[0;31mAlgodHTTPError\u001B[0m: TransactionPool.Remember: transaction BD4A53KEYRYDM7EAPUPXIDJCMPQUVQPDKVWIKWY67PCEFXPCLGJA: underflow on subtracting 100 from sender amount 0"
     ]
    }
   ],
   "source": [
    "#  money retrieving from Quiz Company after quiz closure (1 week). The company retrieves both the Quiz Coins (first transaction) and the ALGOs (second transaction).\n",
    "\n",
    "sp = algod_client.suggested_params()\n",
    "\n",
    "#  Quiz Coins retrieving from Smart Signature\n",
    "amt_1 = int(1.0 * 1e2) #  it should be set based on the amount of Quiz Coins\n",
    "txn_1 = AssetTransferTxn(Quiz['hash'], sp, MyAlgo['public'], amt_1, asset_id)\n",
    "\n",
    "#  ALGOs retrieving from Smart Signature\n",
    "amt_2 = int(0.1 * 1e6)  #  it should be set based on the amount of ALGOs\n",
    "txn_2 = PaymentTxn(Quiz['hash'], sp, MyAlgo['public'], amt_2)\n",
    "\n",
    "#  transaction group creation, signing and sending\n",
    "gid = transaction.calculate_group_id([txn_1, txn_2])\n",
    "txn_1.group = gid\n",
    "txn_2.group = gid\n",
    "\n",
    "encodedProg = Quiz['result'].encode()\n",
    "program = base64.decodebytes(encodedProg)\n",
    "lsig = LogicSig(program)\n",
    "stxn_1 = LogicSigTransaction(txn_1, lsig)\n",
    "stxn_2 = LogicSigTransaction(txn_2, lsig)\n",
    "\n",
    "signed_group = [stxn_1, stxn_2]\n",
    "txid = algod_client.send_transactions(signed_group)\n",
    "\n",
    "txinfo = wait_for_confirmation(algod_client, txid)"
   ],
   "metadata": {
    "collapsed": false,
    "pycharm": {
     "name": "#%%\n"
    }
   }
  },
  {
   "cell_type": "code",
   "execution_count": 25,
   "outputs": [
    {
     "data": {
      "text/plain": "      amount  unit   asset-id               name  decimals\n0  12.005004  ALGO          0           Algorand         6\n1  10.000000  USDC   10458941               USDC         6\n2   0.050000   WSC  159159603      Samu WSC coin         2\n3  13.350000   SQC  175523481  Samu WSC QuizCoin         2",
      "text/html": "<div>\n<style scoped>\n    .dataframe tbody tr th:only-of-type {\n        vertical-align: middle;\n    }\n\n    .dataframe tbody tr th {\n        vertical-align: top;\n    }\n\n    .dataframe thead th {\n        text-align: right;\n    }\n</style>\n<table border=\"1\" class=\"dataframe\">\n  <thead>\n    <tr style=\"text-align: right;\">\n      <th></th>\n      <th>amount</th>\n      <th>unit</th>\n      <th>asset-id</th>\n      <th>name</th>\n      <th>decimals</th>\n    </tr>\n  </thead>\n  <tbody>\n    <tr>\n      <th>0</th>\n      <td>12.005004</td>\n      <td>ALGO</td>\n      <td>0</td>\n      <td>Algorand</td>\n      <td>6</td>\n    </tr>\n    <tr>\n      <th>1</th>\n      <td>10.000000</td>\n      <td>USDC</td>\n      <td>10458941</td>\n      <td>USDC</td>\n      <td>6</td>\n    </tr>\n    <tr>\n      <th>2</th>\n      <td>0.050000</td>\n      <td>WSC</td>\n      <td>159159603</td>\n      <td>Samu WSC coin</td>\n      <td>2</td>\n    </tr>\n    <tr>\n      <th>3</th>\n      <td>13.350000</td>\n      <td>SQC</td>\n      <td>175523481</td>\n      <td>Samu WSC QuizCoin</td>\n      <td>2</td>\n    </tr>\n  </tbody>\n</table>\n</div>"
     },
     "execution_count": 25,
     "metadata": {},
     "output_type": "execute_result"
    }
   ],
   "source": [
    "#  check the asset possession of Bob after winning the Quiz\n",
    "\n",
    "asset_holdings_df(algod_client, Bob['public'])"
   ],
   "metadata": {
    "collapsed": false,
    "pycharm": {
     "name": "#%%\n"
    }
   }
  },
  {
   "cell_type": "markdown",
   "source": [
    "### Quiz Coin Selling 1:1\n",
    "\n",
    "An alternative to the Dispenser is the sell of Quiz Coins. The following program will sell Quiz Coins at a fixed ratio of 1 ALGO per Quiz Coin."
   ],
   "metadata": {
    "collapsed": false,
    "pycharm": {
     "name": "#%% md\n"
    }
   }
  },
  {
   "cell_type": "code",
   "execution_count": 37,
   "outputs": [],
   "source": [
    "#  1:1 Quiz Coin selling program\n",
    "\n",
    "vending_condition = And(\n",
    "    Global.group_size() == Int(2),  #  vending atomic swap with 2 transactions\n",
    "    Gtxn[0].type_enum() == TxnType.Payment,  #  the first transaction is a payment in ALGO\n",
    "    Gtxn[0].xfer_asset() == Int(0),\n",
    "    Gtxn[1].type_enum() == TxnType.AssetTransfer,  #  the second transaction is an asset transfer in Quiz Coins\n",
    "    Gtxn[1].xfer_asset() == Int(asset_id),\n",
    "    Int(int(1 * 1E2)) * Gtxn[0].amount() == Int(int(1 * 1E6)) * Gtxn[1].asset_amount(),  # 1:1 ratio\n",
    "    # security checks\n",
    "    Gtxn[0].receiver() == Gtxn[1].sender(),\n",
    "    Gtxn[0].sender() == Gtxn[1].asset_receiver(),\n",
    "    Gtxn[0].rekey_to() == Global.zero_address(),\n",
    "    Gtxn[0].close_remainder_to() == Global.zero_address(),\n",
    "    Gtxn[1].rekey_to() == Global.zero_address(),\n",
    "    Gtxn[1].asset_close_to() == Global.zero_address(),\n",
    ")\n",
    "\n",
    "optin_condition = And(\n",
    "    Global.group_size() == Int(1),\n",
    "    Txn.type_enum() == TxnType.AssetTransfer,\n",
    "    Txn.asset_amount() == Int(0),\n",
    "    Txn.rekey_to() == Global.zero_address(),\n",
    "    Txn.close_remainder_to() == Global.zero_address(),\n",
    ")\n",
    "\n",
    "a = Int(random.randrange(2 ** 32 - 1))\n",
    "random_cond = (a == a)\n",
    "\n",
    "fee_cond = Txn.fee() <= Int(1000)\n",
    "\n",
    "vending_pyteal = And(\n",
    "    random_cond,\n",
    "    fee_cond,\n",
    "    If(\n",
    "        Global.group_size() == Int(1),\n",
    "        optin_condition,\n",
    "        vending_condition\n",
    "    )\n",
    ")"
   ],
   "metadata": {
    "collapsed": false,
    "pycharm": {
     "name": "#%%\n"
    }
   }
  },
  {
   "cell_type": "markdown",
   "source": [
    "### Quiz Coin Selling with rebate scheme\n",
    "\n",
    "SKIP THE FOLLOWING CELL AND USE THE 1:1 RATIO\n",
    "\n",
    "Another alternative to the Dispenser is the sell of Quiz Coins with a rebate scheme. There is something wrong with computing the discount, so the solution is not entirely working."
   ],
   "metadata": {
    "collapsed": false,
    "pycharm": {
     "name": "#%% md\n"
    }
   }
  },
  {
   "cell_type": "code",
   "execution_count": 38,
   "outputs": [],
   "source": [
    "#  rebate scheme selling program\n",
    "\n",
    "vending_condition = And(\n",
    "    Global.group_size() == Int(2),  #  vending atomic swap with 2 transactions\n",
    "    Gtxn[0].type_enum() == TxnType.Payment,  #  the first transaction is a payment in ALGO\n",
    "    Gtxn[0].xfer_asset() == Int(0),\n",
    "    Gtxn[1].type_enum() == TxnType.AssetTransfer,  #  the second transaction is an asset transfer in Quiz Coins\n",
    "    Gtxn[1].xfer_asset() == Int(asset_id),\n",
    "\n",
    "    If (\n",
    "        Gtxn[0].amount() < Int(int(10 * 1E6)),\n",
    "        Int(int(1 * 1E2)) * Gtxn[0].amount() == Int(int(1 * 1E6)) * Gtxn[1].asset_amount(),  # no discount\n",
    "        If (\n",
    "            Gtxn[0].amount() < Int(int(50 * 1E6)),\n",
    "            Int(int(1 * 1E2)) * (Gtxn[0].amount() / Int(int(10)) * Int(int(9))) == Int(int(1 * 1E6)) * Gtxn[1].asset_amount(),  # 10% discount\n",
    "            Int(int(1 * 1E2)) * (Gtxn[0].amount() / Int(int(10)) * Int(int(8))) == Int(int(1 * 1E6)) * Gtxn[1].asset_amount(),  # 20% discount\n",
    "        )\n",
    "    ),\n",
    "\n",
    "    # security checks\n",
    "    Gtxn[0].receiver() == Gtxn[1].sender(),\n",
    "    Gtxn[0].sender() == Gtxn[1].asset_receiver(),\n",
    "    Gtxn[0].rekey_to() == Global.zero_address(),\n",
    "    Gtxn[0].close_remainder_to() == Global.zero_address(),\n",
    "    Gtxn[1].rekey_to() == Global.zero_address(),\n",
    "    Gtxn[1].asset_close_to() == Global.zero_address(),\n",
    ")\n",
    "\n",
    "optin_condition = And(\n",
    "    Global.group_size() == Int(1),\n",
    "    Txn.type_enum() == TxnType.AssetTransfer,\n",
    "    Txn.asset_amount() == Int(0),\n",
    "    Txn.rekey_to() == Global.zero_address(),\n",
    "    Txn.close_remainder_to() == Global.zero_address(),\n",
    ")\n",
    "\n",
    "a = Int(random.randrange(2 ** 32 - 1))\n",
    "random_cond = (a == a)\n",
    "\n",
    "fee_cond = Txn.fee() <= Int(1000)\n",
    "\n",
    "vending_pyteal = And(\n",
    "    random_cond,\n",
    "    fee_cond,\n",
    "    If(\n",
    "        Global.group_size() == Int(1),\n",
    "        optin_condition,\n",
    "        vending_condition\n",
    "    )\n",
    ")"
   ],
   "metadata": {
    "collapsed": false,
    "pycharm": {
     "name": "#%%\n"
    }
   }
  },
  {
   "cell_type": "code",
   "execution_count": 39,
   "outputs": [
    {
     "name": "stdout",
     "output_type": "stream",
     "text": [
      "Smart signature addr:  2OD3S53WDKSYJIFPDHC5SJIPZBDYJ2BS4UJJP7QYSS3OGPPVRGPO5DL52I\n",
      "Smart signature code:  CCAHAWTAhD3l/I5uAAQKJSUSMQGB6AcOEDIEIhJAAJ4yBIECEjMAECISEDMAESEEEhAzARAhBRIQMwERgZmN2VMSEDMACIGAreIEDEAAYTMACIGA4esXDEAAQSMzAAghBgqBCAsLJDMBEgsSEDMABzMBABIQMwAAMwEUEhAzACAyAxIQMwAJMgMSEDMBIDIDEhAzARUyAxIQQgA+IzMACCEGCoEJCwskMwESCxJC/7wjMwAICyQzARILEkL/rjIEIhIxECEFEhAxEiEEEhAxIDIDEhAxCTIDEhAQQw==\n",
      "Current round is  29025595.\n",
      "Waiting for round 29025595 to finish.\n",
      "Waiting for round 29025596 to finish.\n",
      "Transaction A3RH6PBHUADLYOJTZJQUTEJKKQVIVIKG6PTKKPWQ6KDFZ2BHX3TA confirmed in round 29025597.\n",
      "Current round is  29025597.\n",
      "Waiting for round 29025597 to finish.\n",
      "Waiting for round 29025598 to finish.\n",
      "Transaction FQ7DCOUFRWOAKLJJIGKLHENAGHRBORX6KRS5B6ZJNF7DH4QWE4MA confirmed in round 29025599.\n"
     ]
    }
   ],
   "source": [
    "#  vending program compilation\n",
    "\n",
    "vending_teal = compileTeal(vending_pyteal, Mode.Signature, version=8)\n",
    "Vending = algod_client.compile(vending_teal)\n",
    "print(\"Smart signature addr: \", Vending['hash'])\n",
    "print(\"Smart signature code: \", Vending['result'])\n",
    "\n",
    "#  Smart Signature funding: min holdings + min holdings for 1 ASA + TX fee for a few several swaps\n",
    "sp = algod_client.suggested_params()\n",
    "amt = int(0.1 * 1e6) + int(0.1 * 1e6) + int(50 * 0.001 * 1e6)\n",
    "txn = transaction.PaymentTxn(sender=MyAlgo['public'], sp=sp,\n",
    "                             receiver=Vending['hash'], amt=amt)\n",
    "\n",
    "#  funding signing and sending\n",
    "stxn = txn.sign(MyAlgo['private'])\n",
    "\n",
    "txid = algod_client.send_transaction(stxn)\n",
    "txinfo = wait_for_confirmation(algod_client, txid)\n",
    "\n",
    "#  Smart Contract asset opt-in\n",
    "sp = algod_client.suggested_params()\n",
    "txn = AssetTransferTxn(Vending['hash'], sp, Vending['hash'], 0, asset_id)\n",
    "\n",
    "#  opt-in signing and sending\n",
    "encodedProg = Vending['result'].encode()\n",
    "program = base64.decodebytes(encodedProg)\n",
    "lsig = LogicSig(program)\n",
    "stxn = LogicSigTransaction(txn, lsig)\n",
    "\n",
    "txid = algod_client.send_transaction(stxn)\n",
    "txinfo = wait_for_confirmation(algod_client, txid)"
   ],
   "metadata": {
    "collapsed": false,
    "pycharm": {
     "name": "#%%\n"
    }
   }
  },
  {
   "cell_type": "code",
   "execution_count": 31,
   "outputs": [
    {
     "name": "stdout",
     "output_type": "stream",
     "text": [
      "Current round is  29025436.\n",
      "Waiting for round 29025436 to finish.\n",
      "Waiting for round 29025437 to finish.\n",
      "Transaction 2LUST33OUPHW7FNX4KXV6XF76YJGXX6LJAXK3TVI4VVUYPNHWTRA confirmed in round 29025438.\n"
     ]
    }
   ],
   "source": [
    "#  putting 50 Quiz Coin inside the vending contract\n",
    "asset_decimals = algod_client.asset_info(asset_id)['params']['decimals']\n",
    "amt = int(50 * 10 ** asset_decimals)\n",
    "\n",
    "sp = algod_client.suggested_params()\n",
    "txn = AssetTransferTxn(\n",
    "    sender=MyAlgo['public'],\n",
    "    sp=sp,\n",
    "    receiver=Vending['hash'],\n",
    "    amt=amt,\n",
    "    index=asset_id)\n",
    "\n",
    "#  signing and sensing\n",
    "stxn = txn.sign(MyAlgo['private'])\n",
    "txid = algod_client.send_transaction(stxn)\n",
    "\n",
    "txinfo = wait_for_confirmation(algod_client, txid)"
   ],
   "metadata": {
    "collapsed": false,
    "pycharm": {
     "name": "#%%\n"
    }
   }
  },
  {
   "cell_type": "code",
   "execution_count": 32,
   "outputs": [
    {
     "name": "stdout",
     "output_type": "stream",
     "text": [
      "Current round is  29025439.\n",
      "Waiting for round 29025439 to finish.\n",
      "Waiting for round 29025440 to finish.\n",
      "Transaction S3T3JDIVHPOK5J7PI3YK2P5ZZHR63TDEA7RLIFFENB7TBDPC2RVA confirmed in round 29025441.\n"
     ]
    }
   ],
   "source": [
    "##  using the selling contract\n",
    "\n",
    "sp = algod_client.suggested_params()\n",
    "\n",
    "#  payment transaction in ALGO from Bob to Vending\n",
    "amt_1 = int(5.0 * 1e6)\n",
    "txn_1 = PaymentTxn(Bob['public'], sp, Vending['hash'], amt_1)\n",
    "\n",
    "#  asset transfer transaction from Vending to Bob\n",
    "amt_2 = int(5.0 * 1e2)\n",
    "txn_2 = AssetTransferTxn(Vending['hash'], sp, Bob['public'], amt_2, asset_id)\n",
    "\n",
    "#  transaction group creation, signing and sending\n",
    "gid = transaction.calculate_group_id([txn_1, txn_2])\n",
    "txn_1.group = gid\n",
    "txn_2.group = gid\n",
    "\n",
    "stxn_1 = txn_1.sign(Bob['private'])\n",
    "encodedProg = Vending['result'].encode()\n",
    "program = base64.decodebytes(encodedProg)\n",
    "lsig = LogicSig(program)\n",
    "stxn_2 = LogicSigTransaction(txn_2, lsig)\n",
    "\n",
    "signed_group = [stxn_1, stxn_2]\n",
    "txid = algod_client.send_transactions(signed_group)\n",
    "\n",
    "txinfo = wait_for_confirmation(algod_client, txid)"
   ],
   "metadata": {
    "collapsed": false,
    "pycharm": {
     "name": "#%%\n"
    }
   }
  },
  {
   "cell_type": "code",
   "execution_count": 91,
   "outputs": [
    {
     "data": {
      "text/plain": "      amount  unit   asset-id               name  decimals\n0  18.011004  ALGO          0           Algorand         6\n1  10.000000  USDC   10458941               USDC         6\n2   0.050000   WSC  159159603      Samu WSC coin         2\n3   2.350000   SQC  175523481  Samu WSC QuizCoin         2",
      "text/html": "<div>\n<style scoped>\n    .dataframe tbody tr th:only-of-type {\n        vertical-align: middle;\n    }\n\n    .dataframe tbody tr th {\n        vertical-align: top;\n    }\n\n    .dataframe thead th {\n        text-align: right;\n    }\n</style>\n<table border=\"1\" class=\"dataframe\">\n  <thead>\n    <tr style=\"text-align: right;\">\n      <th></th>\n      <th>amount</th>\n      <th>unit</th>\n      <th>asset-id</th>\n      <th>name</th>\n      <th>decimals</th>\n    </tr>\n  </thead>\n  <tbody>\n    <tr>\n      <th>0</th>\n      <td>18.011004</td>\n      <td>ALGO</td>\n      <td>0</td>\n      <td>Algorand</td>\n      <td>6</td>\n    </tr>\n    <tr>\n      <th>1</th>\n      <td>10.000000</td>\n      <td>USDC</td>\n      <td>10458941</td>\n      <td>USDC</td>\n      <td>6</td>\n    </tr>\n    <tr>\n      <th>2</th>\n      <td>0.050000</td>\n      <td>WSC</td>\n      <td>159159603</td>\n      <td>Samu WSC coin</td>\n      <td>2</td>\n    </tr>\n    <tr>\n      <th>3</th>\n      <td>2.350000</td>\n      <td>SQC</td>\n      <td>175523481</td>\n      <td>Samu WSC QuizCoin</td>\n      <td>2</td>\n    </tr>\n  </tbody>\n</table>\n</div>"
     },
     "execution_count": 91,
     "metadata": {},
     "output_type": "execute_result"
    }
   ],
   "source": [
    "#  checking the wallet of Bob to see the acquired assets\n",
    "\n",
    "asset_holdings_df(algod_client, Bob['public'])"
   ],
   "metadata": {
    "collapsed": false,
    "pycharm": {
     "name": "#%%\n"
    }
   }
  },
  {
   "cell_type": "code",
   "execution_count": null,
   "outputs": [],
   "source": [],
   "metadata": {
    "collapsed": false,
    "pycharm": {
     "name": "#%%\n"
    }
   }
  }
 ],
 "metadata": {
  "kernelspec": {
   "display_name": "Python 3",
   "language": "python",
   "name": "python3"
  },
  "language_info": {
   "codemirror_mode": {
    "name": "ipython",
    "version": 3
   },
   "file_extension": ".py",
   "mimetype": "text/x-python",
   "name": "python",
   "nbconvert_exporter": "python",
   "pygments_lexer": "ipython3",
   "version": "3.8.8"
  }
 },
 "nbformat": 4,
 "nbformat_minor": 4
}