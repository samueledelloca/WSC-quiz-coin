{
 "cells": [
  {
   "cell_type": "markdown",
   "metadata": {
    "pycharm": {
     "name": "#%% md\n"
    }
   },
   "source": [
    "## WSC Quiz Coin\n",
    "#### 03 Smart Contracts Testing\n",
    "##### Samuele Dell'Oca (samuele.delloca@supsi.ch)\n",
    "\n",
    "The entire notebook is predisposed in such a way that the cells have to be executed in a sequential way for replicating the desired execution. In case some cells need to be skipped, there will be a proper indication.\n",
    "Be sure that the smart contracts are still valid before testing them."
   ]
  },
  {
   "cell_type": "markdown",
   "metadata": {
    "tags": [],
    "pycharm": {
     "name": "#%% md\n"
    }
   },
   "source": [
    "## Notebook Setup\n",
    "Taken from the course examples. It loads:\n",
    "* The functions in `algo_util.py`\n",
    "* The accounts MyAlgo, Alice and Bob\n",
    "* The Purestake credentials"
   ]
  },
  {
   "cell_type": "code",
   "execution_count": 1,
   "metadata": {
    "pycharm": {
     "name": "#%%\n"
    }
   },
   "outputs": [],
   "source": [
    "# Loading shared code and credentials\n",
    "from algo_util import *\n",
    "cred = load_credentials()\n",
    "\n",
    "# Shortcuts to directly access the 5 main accounts\n",
    "MyAlgo  = cred['MyAlgo']\n",
    "Alice   = cred['Alice']\n",
    "Bob     = cred['Bob']\n",
    "Charlie = cred['Charlie']\n",
    "Dina    = cred['Dina']"
   ]
  },
  {
   "cell_type": "code",
   "execution_count": 2,
   "metadata": {
    "pycharm": {
     "name": "#%%\n"
    }
   },
   "outputs": [],
   "source": [
    "from algosdk import account, mnemonic\n",
    "from algosdk.v2client import algod\n",
    "from algosdk import transaction\n",
    "from algosdk.transaction import PaymentTxn\n",
    "from algosdk.transaction import AssetConfigTxn, AssetTransferTxn, AssetFreezeTxn\n",
    "from algosdk.transaction import LogicSig, LogicSigTransaction, LogicSigAccount\n",
    "import algosdk.error\n",
    "import json\n",
    "import base64\n",
    "\n",
    "from pyteal import *\n",
    "import random\n",
    "import hashlib"
   ]
  },
  {
   "cell_type": "code",
   "execution_count": 3,
   "metadata": {
    "pycharm": {
     "name": "#%%\n"
    }
   },
   "outputs": [],
   "source": [
    "# Initialize the algod client (Testnet or Mainnet)\n",
    "algod_client = algod.AlgodClient(algod_token='', algod_address=cred['algod_test'], headers=cred['purestake_token'])"
   ]
  },
  {
   "cell_type": "markdown",
   "source": [
    "### Using the created Smart Contracts\n",
    "\n",
    "First of all we have to set the address of the deployed contracts. Then it will be possible to use them."
   ],
   "metadata": {
    "collapsed": false,
    "pycharm": {
     "name": "#%% md\n"
    }
   }
  },
  {
   "cell_type": "code",
   "execution_count": null,
   "outputs": [],
   "source": [
    "asset_id = 175523481\n",
    "asset_decimals = 2\n",
    "dispense_hash = \"YVGRKP255O2MRGK4P6UVTQU2W4DNZSOMI4PXPLEQSN5WV7GJEIVDHE4QGQ\"\n",
    "dispense_result = \"CCAEAQCL7fyKDAQkJBIxAYHoBw4QMgQiEkAAWzIEgQISMwAQIhIQMwARIxIQMwEQJRIQMwERgZmN2VMSEIHAhD0zAAgLIxIQMwAHMwEAEhAzAAAzARQSEDMAIDIDEhAzAAkyAxIQMwEgMgMSEDMBFTIDEhBCABoyBCISMRAlEhAxEiMSEDEgMgMSEDEJMgMSEBBD\"\n",
    "country_quiz_hash = \"VRBJLYDADJWW6NF7NEDTG6343LGUYZFPSCGVL374ZXFZEYHGDDPISQXI7M\"\n",
    "country_quiz_result = \"CCAFAQQAut/vswGZjdlTJgEgmLUFmOFjnZBD7fj7YFWjJ9+GwqzlS0hj1j21yzBGIgglJRIxAYHoBw4QMgQiEkAArjECgZnx9w0MQAAnMwAQIxIzABEhBBIQMwAUKBIQMwEQIhIQMwERJBIQMwEHKBIQQgCWMgSBAhIzABAjEhAzABEhBBIQMwEQIhIQMwERJBIQMwASgWQSEDMABQGAICJ1WDGW15FAWJKqyg2HdDyHLz/AzzMIpsPvglKJGKqKEhAzABQzAQASEDMAADMBBxIQMwAgMgMSEDMACTIDEhAzASAyAxIQMwEVMgMSEEIAGjIEIhIxECMSEDESJBIQMSAyAxIQMQkyAxIQEEM=\"\n",
    "vending_hash = \"2OD3S53WDKSYJIFPDHC5SJIPZBDYJ2BS4UJJP7QYSS3OGPPVRGPO5DL52I\"\n",
    "vending_result = \"CCAHAWTAhD3l/I5uAAQKJSUSMQGB6AcOEDIEIhJAAJ4yBIECEjMAECISEDMAESEEEhAzARAhBRIQMwERgZmN2VMSEDMACIGAreIEDEAAYTMACIGA4esXDEAAQSMzAAghBgqBCAsLJDMBEgsSEDMABzMBABIQMwAAMwEUEhAzACAyAxIQMwAJMgMSEDMBIDIDEhAzARUyAxIQQgA+IzMACCEGCoEJCwskMwESCxJC/7wjMwAICyQzARILEkL/rjIEIhIxECEFEhAxEiEEEhAxIDIDEhAxCTIDEhAQQw==\""
   ],
   "metadata": {
    "collapsed": false,
    "pycharm": {
     "name": "#%%\n"
    }
   }
  },
  {
   "cell_type": "markdown",
   "source": [
    "### Classical attacks\n",
    "Anti-theft, anti-money laundering, fee attacks, rekey attacks and other sort of attacks are managed in the relative programs. So I will check only for problems or attacks relative to the specific implementation, such as sending wrong answers or requesting wrong quantities from the Vending contract."
   ],
   "metadata": {
    "collapsed": false,
    "pycharm": {
     "name": "#%% md\n"
    }
   }
  },
  {
   "cell_type": "markdown",
   "source": [
    "### Dispenser"
   ],
   "metadata": {
    "collapsed": false,
    "pycharm": {
     "name": "#%% md\n"
    }
   }
  },
  {
   "cell_type": "code",
   "execution_count": null,
   "outputs": [],
   "source": [
    "#  Bob (a user) needs to opt into the Quiz Coin before participating.\n",
    "\n",
    "sp = algod_client.suggested_params()\n",
    "amt = int(0)\n",
    "\n",
    "txn = AssetTransferTxn(\n",
    "    sender=Bob['public'],\n",
    "    sp=sp,\n",
    "    receiver=Bob['public'],\n",
    "    amt=amt,\n",
    "    index=asset_id\n",
    ")\n",
    "\n",
    "#  opt-in signing and sending\n",
    "stxn = txn.sign(Bob['private'])\n",
    "txid = algod_client.send_transaction(stxn)\n",
    "\n",
    "txinfo = wait_for_confirmation(algod_client, txid)"
   ],
   "metadata": {
    "collapsed": false,
    "pycharm": {
     "name": "#%%\n"
    }
   }
  },
  {
   "cell_type": "code",
   "execution_count": 1,
   "outputs": [
    {
     "ename": "NameError",
     "evalue": "name 'algod_client' is not defined",
     "output_type": "error",
     "traceback": [
      "\u001B[0;31m---------------------------------------------------------------------------\u001B[0m",
      "\u001B[0;31mNameError\u001B[0m                                 Traceback (most recent call last)",
      "Cell \u001B[0;32mIn[1], line 3\u001B[0m\n\u001B[1;32m      1\u001B[0m \u001B[38;5;66;03m#  the Dispenser is ready to use. Bob gets 5 Quiz Coins.\u001B[39;00m\n\u001B[0;32m----> 3\u001B[0m sp \u001B[38;5;241m=\u001B[39m \u001B[43malgod_client\u001B[49m\u001B[38;5;241m.\u001B[39msuggested_params()\n\u001B[1;32m      5\u001B[0m \u001B[38;5;66;03m#  ALGO payment from Bob to Dispenser\u001B[39;00m\n\u001B[1;32m      6\u001B[0m amt_1 \u001B[38;5;241m=\u001B[39m \u001B[38;5;28mint\u001B[39m(\u001B[38;5;241m1.0\u001B[39m \u001B[38;5;241m*\u001B[39m \u001B[38;5;241m1e6\u001B[39m)  \u001B[38;5;66;03m# WON'T \u001B[39;00m\n",
      "\u001B[0;31mNameError\u001B[0m: name 'algod_client' is not defined"
     ]
    }
   ],
   "source": [
    "#  the Dispenser is ready to use. Bob gets 5 Quiz Coins.\n",
    "\n",
    "sp = algod_client.suggested_params()\n",
    "\n",
    "#  ALGO payment from Bob to Dispenser\n",
    "amt_1 = int(1.0 * 1e6)  # WON'T WORK!\n",
    "txn_1 = PaymentTxn(Bob['public'], sp, dispense_hash, amt_1)\n",
    "\n",
    "#  Quiz Coin asset transfer from Dispenser to Bob\n",
    "amt_2 = int(5 * 10**asset_decimals)\n",
    "txn_2 = AssetTransferTxn(dispense_hash, sp, Bob['public'], amt_2, asset_id)\n",
    "\n",
    "#  transaction group creation\n",
    "gid = transaction.calculate_group_id([txn_1, txn_2])\n",
    "txn_1.group = gid  # add group_id to each transaction\n",
    "txn_2.group = gid\n",
    "\n",
    "#  Bob signs the first transaction, Smart signature will authorize the second one\n",
    "stxn_1 = txn_1.sign(Bob['private'])\n",
    "encodedProg = dispense_result.encode()\n",
    "program = base64.decodebytes(encodedProg)\n",
    "lsig = LogicSig(program)\n",
    "stxn_2 = LogicSigTransaction(txn_2, lsig)\n",
    "\n",
    "#  transactions sending\n",
    "signed_group = [stxn_1, stxn_2]\n",
    "txid = algod_client.send_transactions(signed_group)\n",
    "\n",
    "txinfo = wait_for_confirmation(algod_client, txid)"
   ],
   "metadata": {
    "collapsed": false,
    "pycharm": {
     "name": "#%%\n"
    }
   }
  },
  {
   "cell_type": "markdown",
   "source": [
    "### Question and answer"
   ],
   "metadata": {
    "collapsed": false,
    "pycharm": {
     "name": "#%% md\n"
    }
   }
  },
  {
   "cell_type": "code",
   "execution_count": null,
   "outputs": [],
   "source": [
    "#  Quiz answer submission\n",
    "\n",
    "sp = algod_client.suggested_params()\n",
    "\n",
    "my_note = 'Zurich'  # WON'T WORK!\n",
    "note = my_note.encode()\n",
    "\n",
    "#  Quiz Coin asset transfer from Bob to Smart Signature\n",
    "amt_1 = int(1.0 * 1e2)\n",
    "txn_1 = AssetTransferTxn(Bob['public'], sp, country_quiz_hash, amt_1, asset_id, note=note)\n",
    "\n",
    "#  Algo prize transfer from Smart Sigature to Bob\n",
    "# amt_2 = int(50.0 * 1e6)\n",
    "amt_2 = int(1.0 * 1e6)  # it should be 50, I've used lower quantities for testing\n",
    "txn_2 = PaymentTxn(country_quiz_hash, sp, Bob['public'], amt_2)\n",
    "\n",
    "#  transaction group creation, signing and sending\n",
    "gid = transaction.calculate_group_id([txn_1, txn_2])\n",
    "txn_1.group = gid\n",
    "txn_2.group = gid\n",
    "\n",
    "stxn_1 = txn_1.sign(Bob['private'])\n",
    "encodedProg = country_quiz_result.encode()\n",
    "program = base64.decodebytes(encodedProg)\n",
    "lsig = LogicSig(program)\n",
    "stxn_2 = LogicSigTransaction(txn_2, lsig)\n",
    "\n",
    "signed_group = [stxn_1, stxn_2]\n",
    "txid = algod_client.send_transactions(signed_group)\n",
    "\n",
    "txinfo = wait_for_confirmation(algod_client, txid)"
   ],
   "metadata": {
    "collapsed": false,
    "pycharm": {
     "name": "#%%\n"
    }
   }
  },
  {
   "cell_type": "code",
   "execution_count": null,
   "outputs": [],
   "source": [
    "#  money retrieving from Quiz Company after quiz closure (1 week). The company retrieves both the Quiz Coins (first transaction) and the ALGOs (second transaction).\n",
    "\n",
    "# WON'T WORK BEFORE 1 WEEK\n",
    "\n",
    "sp = algod_client.suggested_params()\n",
    "\n",
    "#  Quiz Coins retrieving from Smart Signature\n",
    "amt_1 = int(1.0 * 1e2) #  it should be set based on the amount of Quiz Coins\n",
    "txn_1 = AssetTransferTxn(country_quiz_hash, sp, MyAlgo['public'], amt_1, asset_id)\n",
    "\n",
    "#  ALGOs retrieving from Smart Signature\n",
    "amt_2 = int(0.1 * 1e6)  #  it should be set based on the amount of ALGOs\n",
    "txn_2 = PaymentTxn(country_quiz_hash, sp, MyAlgo['public'], amt_2)\n",
    "\n",
    "#  transaction group creation, signing and sending\n",
    "gid = transaction.calculate_group_id([txn_1, txn_2])\n",
    "txn_1.group = gid\n",
    "txn_2.group = gid\n",
    "\n",
    "encodedProg = country_quiz_result.encode()\n",
    "program = base64.decodebytes(encodedProg)\n",
    "lsig = LogicSig(program)\n",
    "stxn_1 = LogicSigTransaction(txn_1, lsig)\n",
    "stxn_2 = LogicSigTransaction(txn_2, lsig)\n",
    "\n",
    "signed_group = [stxn_1, stxn_2]\n",
    "txid = algod_client.send_transactions(signed_group)\n",
    "\n",
    "txinfo = wait_for_confirmation(algod_client, txid)"
   ],
   "metadata": {
    "collapsed": false,
    "pycharm": {
     "name": "#%%\n"
    }
   }
  },
  {
   "cell_type": "markdown",
   "source": [
    "### Vending"
   ],
   "metadata": {
    "collapsed": false,
    "pycharm": {
     "name": "#%% md\n"
    }
   }
  },
  {
   "cell_type": "code",
   "execution_count": null,
   "outputs": [],
   "source": [
    "##  using the selling contract\n",
    "\n",
    "sp = algod_client.suggested_params()\n",
    "\n",
    "#  payment transaction in ALGO from Bob to Vending\n",
    "amt_1 = int(5.0 * 1e6)\n",
    "txn_1 = PaymentTxn(Bob['public'], sp, vending_hash, amt_1)\n",
    "\n",
    "#  asset transfer transaction from Vending to Bob\n",
    "amt_2 = int(10.0 * 1e2)  # WON'T WORK\n",
    "txn_2 = AssetTransferTxn(vending_hash, sp, Bob['public'], amt_2, asset_id)\n",
    "\n",
    "#  transaction group creation, signing and sending\n",
    "gid = transaction.calculate_group_id([txn_1, txn_2])\n",
    "txn_1.group = gid\n",
    "txn_2.group = gid\n",
    "\n",
    "stxn_1 = txn_1.sign(Bob['private'])\n",
    "encodedProg = vending_result.encode()\n",
    "program = base64.decodebytes(encodedProg)\n",
    "lsig = LogicSig(program)\n",
    "stxn_2 = LogicSigTransaction(txn_2, lsig)\n",
    "\n",
    "signed_group = [stxn_1, stxn_2]\n",
    "txid = algod_client.send_transactions(signed_group)\n",
    "\n",
    "txinfo = wait_for_confirmation(algod_client, txid)"
   ],
   "metadata": {
    "collapsed": false,
    "pycharm": {
     "name": "#%%\n"
    }
   }
  },
  {
   "cell_type": "code",
   "execution_count": null,
   "outputs": [],
   "source": [
    "asset_id = 175523481"
   ],
   "metadata": {
    "collapsed": false,
    "pycharm": {
     "name": "#%%\n"
    }
   }
  }
 ],
 "metadata": {
  "kernelspec": {
   "display_name": "Python 3",
   "language": "python",
   "name": "python3"
  },
  "language_info": {
   "codemirror_mode": {
    "name": "ipython",
    "version": 3
   },
   "file_extension": ".py",
   "mimetype": "text/x-python",
   "name": "python",
   "nbconvert_exporter": "python",
   "pygments_lexer": "ipython3",
   "version": "3.8.8"
  }
 },
 "nbformat": 4,
 "nbformat_minor": 4
}